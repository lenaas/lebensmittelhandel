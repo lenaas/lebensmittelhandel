{
 "cells": [
  {
   "cell_type": "markdown",
   "id": "83f1e33e-80f3-467b-aab0-c073320ecde0",
   "metadata": {},
   "source": [
    "## Imports"
   ]
  },
  {
   "cell_type": "code",
   "execution_count": 1,
   "id": "f9ce0b93-4139-4f46-910b-b61e45a8e57b",
   "metadata": {},
   "outputs": [],
   "source": [
    "# numerics\n",
    "import pandas as pd\n",
    "# tables\n",
    "import numpy as np"
   ]
  },
  {
   "cell_type": "code",
   "execution_count": 2,
   "id": "61a28ee4-6b82-468f-9e6d-ecaa98a3336e",
   "metadata": {},
   "outputs": [],
   "source": [
    "# plotting\n",
    "import matplotlib.pyplot as plt\n",
    "import plotly.express as px\n",
    "import plotly.graph_objects as go\n",
    "import plotly.offline as po"
   ]
  },
  {
   "cell_type": "code",
   "execution_count": 3,
   "id": "5a9e09d5-84e7-4059-bfad-8d47d6035ec8",
   "metadata": {},
   "outputs": [],
   "source": [
    "# graphs\n",
    "import networkx as nx"
   ]
  },
  {
   "cell_type": "markdown",
   "id": "9d299f57-364a-4203-b8b4-deb6a9174335",
   "metadata": {},
   "source": [
    "## Function Definition"
   ]
  },
  {
   "cell_type": "code",
   "execution_count": 4,
   "id": "1032f4ec-58d4-46e6-8471-f28f2448900b",
   "metadata": {
    "tags": []
   },
   "outputs": [],
   "source": [
    "def autocomplete_product(stump):\n",
    "    \"\"\" Autocomplete (Case Insensitive) Product Name and provide ID \"\"\"\n",
    "    # for each product\n",
    "    for x in raw.product_name.unique():\n",
    "        # if it contains provided stump\n",
    "        if x.lower().__contains__(stump.lower()):\n",
    "            # print name and id\n",
    "            print(f\"{x} - {name_to_id[x]}\")"
   ]
  },
  {
   "cell_type": "code",
   "execution_count": 5,
   "id": "c0e2dbe4-5fdc-4fb5-8693-ce9c9dbc0f5b",
   "metadata": {},
   "outputs": [],
   "source": [
    "def create_graph(df, name, plot=False, offline=True, notebook=False):\n",
    "    \"\"\"\n",
    "    Create Graph of products. Node size ~ totals sales. Edge strength ~ shared sales adjusted for total sales.\n",
    "    \n",
    "    :df -> Dataframe to generate edges from\n",
    "    :name -> file suffix for html page\n",
    "    :offline -> create html page with plot and display as new tab\n",
    "    :notebook -> display in notebook\n",
    "    \"\"\"\n",
    "    # create edgelist\n",
    "    G = nx.from_pandas_edgelist(df, source=\"product_x\", target=\"product_y\", edge_attr=True)\n",
    "    # position nodes using Fruchterman-Reingold force-directed algorithm\n",
    "    pos_ = nx.spring_layout(G)\n",
    "    \n",
    "    # generate plotly trace for every edge\n",
    "    edge_trace = []\n",
    "    for edge in G.edges():\n",
    "\n",
    "        if G.edges()[edge]['weight'] > 0:\n",
    "            prod_1 = edge[0]\n",
    "            prod_2 = edge[1]\n",
    "\n",
    "            x0, y0 = pos_[prod_1]\n",
    "            x1, y1 = pos_[prod_2]\n",
    "            # generate hovertext (only displays on starting point. Bug in Plotly https://community.plotly.com/t/plotly-hover-event-not-getting-triggered-for-al-data-points/387)\n",
    "            text   = str(id_to_name[prod_2]) + '--' + str(id_to_name[prod_1]) + ': ' + str(G.edges()[edge]['weight'])\n",
    "            # calculate adjusted width\n",
    "            width = G.edges()[edge]['weight']/(0.2*prod_count[prod_1]+0.2*prod_count[prod_2])\n",
    "            # generate trace\n",
    "            trace = go.Scatter(x = [x0, x1, None], y = [y0, y1, None],\n",
    "                               line      = dict(width=width, color='green'),\n",
    "                               hoverinfo = 'text',\n",
    "                               text      = ([text]),\n",
    "                               mode      = 'lines')\n",
    "            # append to edge_trace list\n",
    "            edge_trace.append(trace)\n",
    "            \n",
    "    # create empty node trace\n",
    "    node_trace = go.Scatter(x = [], y = [],\n",
    "                            text      = [],\n",
    "                            textposition = \"top center\",\n",
    "                            textfont_size = 10,\n",
    "                            mode      = 'markers+text',\n",
    "                            hoverinfo = 'none',\n",
    "                            marker    = dict(color=[], size=[], line=None))\n",
    "    # add every node to node_trace \n",
    "    for node in G.nodes():\n",
    "        x, y = pos_[node]\n",
    "        node_trace['x'] += tuple([x])\n",
    "        node_trace['y'] += tuple([y])\n",
    "        node_trace['marker']['color'] += tuple(['cornflowerblue'])\n",
    "        node_trace['marker']['size'] += tuple([np.log(prod_count[node])])\n",
    "        node_trace['text'] += tuple([id_to_name[node]])\n",
    "    # create layout\n",
    "    layout = go.Layout(\n",
    "        paper_bgcolor='rgba(0,0,0,0)',\n",
    "        plot_bgcolor='rgba(0,0,0,0)'\n",
    "    )\n",
    "    # create figure\n",
    "    fig = go.Figure(layout = layout)\n",
    "    \n",
    "    # add edge traces\n",
    "    for trace in edge_trace:\n",
    "        fig.add_trace(trace)\n",
    "    \n",
    "    # add node traces\n",
    "    fig.add_trace(node_trace)\n",
    "    \n",
    "    # cleanup layout\n",
    "    fig.update_layout(showlegend = False)\n",
    "    fig.update_xaxes(showticklabels = False)\n",
    "    fig.update_yaxes(showticklabels = False)\n",
    "    # display in specified way(s)\n",
    "    if notebook:\n",
    "        fig.show()\n",
    "    if offline:\n",
    "        po.plot(fig, filename=f'networks/network_{name}.html')"
   ]
  },
  {
   "cell_type": "code",
   "execution_count": 6,
   "id": "d24e8e23-e105-455b-a9c8-5412d33f986f",
   "metadata": {},
   "outputs": [],
   "source": [
    "def cl_department(department):\n",
    "    \"\"\"\n",
    "    Create Cooccurrency List for Department\n",
    "    \n",
    "    :department -> department for which to filter for\n",
    "    \"\"\"\n",
    "    # filter and copy\n",
    "    df = raw[raw.department == department][[\"order_id\", \"product_id\"]].copy()\n",
    "    # rename columns\n",
    "    df.rename(columns={\"order_id\":\"order\", \"product_id\":\"product\"}, inplace=True)\n",
    "    # create cooccurrency list\n",
    "    # steps:\n",
    "    # merge to self and drop rows with reflexive relationship\n",
    "    # group by both products and count occurences\n",
    "    # rename columns\n",
    "    # filter duplicate rows\n",
    "    # sort and reset index\n",
    "    df_coocc = df.merge(df, on=['order']).query('product_x != product_y')\\\n",
    "        .groupby(['product_x','product_y'], as_index=False).count()\\\n",
    "        .rename(columns={'order':'weight'})\\\n",
    "        .query('product_x < product_y')\\\n",
    "        .sort_values(by=\"weight\", ignore_index=True)\n",
    "    return df_coocc"
   ]
  },
  {
   "cell_type": "code",
   "execution_count": 7,
   "id": "555bd088-f7b3-4081-a89e-72a68fb5ef17",
   "metadata": {},
   "outputs": [],
   "source": [
    "def graph_product(product_id, top_n=25, offline=True, notebook=False):\n",
    "    \"\"\"\n",
    "    Draw Cooccurrency Graph for specified Product\n",
    "    \n",
    "    :product_id -> center of graph\n",
    "    :top_n -> number of relationships to include (by absolute number of cooccurrencies)\n",
    "    :offline -> create html page with plot and display as new tab\n",
    "    :notebook -> display in notebook\n",
    "    \"\"\"\n",
    "    # create copy \n",
    "    df = raw[[\"order_id\", \"product_id\"]].copy()\n",
    "    # rename columns\n",
    "    df.rename(columns={\"order_id\":\"order\", \"product_id\":\"product\"}, inplace=True)\n",
    "    # create cooccurrency list\n",
    "    # steps:\n",
    "    # merge to self and filter to relevant rows\n",
    "    # drop reflexive relationships\n",
    "    # group by both products and count occurences\n",
    "    # rename columns\n",
    "    # filter duplicate rows\n",
    "    # sort and reset index\n",
    "    df_coocc = df.merge(df, on=['order']).query(f'product_x == {product_id} | product_y == {product_id}')\\\n",
    "            .query('product_x != product_y')\\\n",
    "            .groupby(['product_x','product_y'], as_index=False).count()\\\n",
    "            .rename(columns={'order':'weight'})\\\n",
    "            .query('product_x < product_y')\\\n",
    "            .sort_values(by=\"weight\", ignore_index=True)\n",
    "    # draw graph\n",
    "    create_graph(df_coocc.tail(top_n), product_id, offline=offline, notebook=notebook)"
   ]
  },
  {
   "cell_type": "markdown",
   "id": "da438d61-fec6-43ea-a846-f66f08bd3f40",
   "metadata": {},
   "source": [
    "## Preprocessing"
   ]
  },
  {
   "cell_type": "code",
   "execution_count": 8,
   "id": "424a69fc-0835-448d-8cc1-9731946ea4d3",
   "metadata": {},
   "outputs": [],
   "source": [
    "# read raw data\n",
    "raw = pd.read_parquet(\"shoppingcarts.parquet\")"
   ]
  },
  {
   "cell_type": "code",
   "execution_count": 9,
   "id": "0c75bccd-2525-4b0e-a462-38672afcaff5",
   "metadata": {},
   "outputs": [],
   "source": [
    "# create lookup tables for id to name and vice versa\n",
    "id_to_name = dict(zip(raw.product_id.unique(), raw.product_name.unique()))\n",
    "name_to_id = dict(zip(raw.product_name.unique(), raw.product_id.unique()))"
   ]
  },
  {
   "cell_type": "code",
   "execution_count": 10,
   "id": "aa9b3228-fb4c-4b04-a0d9-7e8a1a0ded2b",
   "metadata": {},
   "outputs": [],
   "source": [
    "# count number of orders per product\n",
    "prod_count = raw.groupby(\"product_id\")[\"order_id\"].count()"
   ]
  },
  {
   "cell_type": "markdown",
   "id": "8a5ac0e0-3c12-489a-8665-92682c54f0f1",
   "metadata": {
    "jp-MarkdownHeadingCollapsed": true,
    "tags": []
   },
   "source": [
    "### Out of Context Wordcloud"
   ]
  },
  {
   "cell_type": "code",
   "execution_count": null,
   "id": "1d55de08-5d89-4642-9e00-2038291ebea8",
   "metadata": {},
   "outputs": [],
   "source": [
    "from wordcloud import WordCloud\n",
    "from nltk.tokenize import word_tokenize\n",
    "\n",
    "corpus = word_tokenize(' '.join(raw.head(10000)['product_name']))\n",
    "wc = WordCloud(background_color='white', random_state=1, max_words=3000, width=1200, height=1200)\n",
    "wc.generate(' '.join(corpus))\n",
    "\n",
    "plt.figure(figsize=[10,10])\n",
    "plt.imshow(wc, interpolation=\"bilinear\")\n",
    "plt.show()"
   ]
  },
  {
   "cell_type": "markdown",
   "id": "ab15093c-1a54-4cb6-9985-43278f1cd478",
   "metadata": {
    "jp-MarkdownHeadingCollapsed": true,
    "tags": []
   },
   "source": [
    "### Sales By Department"
   ]
  },
  {
   "cell_type": "code",
   "execution_count": null,
   "id": "3f9160e0-41f8-4b85-83b7-0f98b22860d9",
   "metadata": {},
   "outputs": [],
   "source": [
    "px.bar(raw.groupby(\"department\")[\"order_id\"].count().sort_values())"
   ]
  },
  {
   "cell_type": "markdown",
   "id": "2935f96d-7a40-4d6e-b3aa-6eaf7141a8f9",
   "metadata": {},
   "source": [
    "### Graphen "
   ]
  },
  {
   "cell_type": "markdown",
   "id": "895d7a9c-c738-4290-8e7f-e85ca93deb46",
   "metadata": {
    "jp-MarkdownHeadingCollapsed": true,
    "tags": []
   },
   "source": [
    "### Top 5000 Products per Department (no need to run again)"
   ]
  },
  {
   "cell_type": "code",
   "execution_count": null,
   "id": "22e988de-6aa7-4816-8acf-76afbe157bac",
   "metadata": {},
   "outputs": [],
   "source": [
    "# for every department\n",
    "for department in raw.department.unique():\n",
    "    # create cooccurrency list\n",
    "    cl_department(department).to_csv(f\"cls\\cl_{department}.csv\")"
   ]
  },
  {
   "cell_type": "code",
   "execution_count": null,
   "id": "1dbc1ec5-854d-458c-bbfc-cd25456fd4a3",
   "metadata": {},
   "outputs": [],
   "source": [
    "# for every department\n",
    "for department in raw.department.unique():\n",
    "    # read cooccurrency list\n",
    "    df_coocc = pd.read_csv(f\"cls\\cl_{department}.csv\", index_col=\"Unnamed: 0\").tail(5000)\n",
    "    # draw graph\n",
    "    create_graph(df_coocc, name=department)"
   ]
  },
  {
   "cell_type": "markdown",
   "id": "e68f2e3e-1223-4344-af5f-1426c706f382",
   "metadata": {},
   "source": [
    "### Exciting part"
   ]
  },
  {
   "cell_type": "code",
   "execution_count": 11,
   "id": "eab295b6-a944-4b7d-bbfb-2e88cd227b21",
   "metadata": {
    "tags": []
   },
   "outputs": [
    {
     "name": "stdout",
     "output_type": "stream",
     "text": [
      "Lindor Stracciatella White Chocolate Truffles - 25268\n",
      "Stracciatella Gelato - 38741\n"
     ]
    }
   ],
   "source": [
    "# Use this to find Product-Ids\n",
    "# shows all products containing stub. Case insensitive\n",
    "autocomplete_product(\"Stracciatella\")"
   ]
  },
  {
   "cell_type": "code",
   "execution_count": 12,
   "id": "563269e5-d48d-4229-85f7-e6a2ce55909d",
   "metadata": {},
   "outputs": [],
   "source": [
    "# create product graph\n",
    "# offline -> create html page with plot and display as new tab\n",
    "# notebook -> display in notebook\n",
    "graph_product(product_id=38741, top_n=25, offline=True, notebook=False)"
   ]
  },
  {
   "cell_type": "code",
   "execution_count": null,
   "id": "f5ce6ebc-6bc5-4ee7-acc2-45ccb4ecfc0f",
   "metadata": {},
   "outputs": [],
   "source": []
  }
 ],
 "metadata": {
  "kernelspec": {
   "display_name": "Python 3 (ipykernel)",
   "language": "python",
   "name": "python3"
  },
  "language_info": {
   "codemirror_mode": {
    "name": "ipython",
    "version": 3
   },
   "file_extension": ".py",
   "mimetype": "text/x-python",
   "name": "python",
   "nbconvert_exporter": "python",
   "pygments_lexer": "ipython3",
   "version": "3.7.11"
  }
 },
 "nbformat": 4,
 "nbformat_minor": 5
}
